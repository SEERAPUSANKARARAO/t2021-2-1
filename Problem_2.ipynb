{
 "cells": [
  {
   "cell_type": "markdown",
   "id": "b1d0cc2a",
   "metadata": {},
   "source": [
    "# Problem-2:\n",
    ">>With a single integer as the input, generate the following until a = x [series of numbers as shown in below examples]\n",
    "\n",
    ">>Output: (examples)\n",
    "    1) input a = 1, then output : 1\n",
    "    2) input a = 2, then output : 1, 3\n",
    "    3) input a = 3, then output : 1, 3, 5\n",
    "    4) input a = 4, then output : 1, 3, 5, 7\n",
    "    .\n",
    "    .\n",
    "    5) input a = x, then output : 1, 3, 5, 7, ......."
   ]
  },
  {
   "cell_type": "code",
   "execution_count": 1,
   "id": "da55be2d",
   "metadata": {},
   "outputs": [],
   "source": [
    "def generate_series(a):\n",
    "    numbers = []\n",
    "    for i in range(1, a*2, 2):\n",
    "        numbers.append(i)\n",
    "    return numbers"
   ]
  },
  {
   "cell_type": "code",
   "execution_count": 2,
   "id": "a6c8808d",
   "metadata": {},
   "outputs": [
    {
     "name": "stdout",
     "output_type": "stream",
     "text": [
      "[1, 3]\n"
     ]
    }
   ],
   "source": [
    "print(generate_series(2))"
   ]
  },
  {
   "cell_type": "code",
   "execution_count": 3,
   "id": "212f67e0",
   "metadata": {},
   "outputs": [
    {
     "name": "stdout",
     "output_type": "stream",
     "text": [
      "[1, 3, 5]\n"
     ]
    }
   ],
   "source": [
    "print(generate_series(3))"
   ]
  },
  {
   "cell_type": "code",
   "execution_count": 4,
   "id": "82fdee1d",
   "metadata": {},
   "outputs": [
    {
     "name": "stdout",
     "output_type": "stream",
     "text": [
      "[1, 3, 5, 7]\n"
     ]
    }
   ],
   "source": [
    "print(generate_series(4))"
   ]
  },
  {
   "cell_type": "code",
   "execution_count": 5,
   "id": "f9d67b28",
   "metadata": {},
   "outputs": [
    {
     "name": "stdout",
     "output_type": "stream",
     "text": [
      "[1, 3, 5, 7, 9]\n"
     ]
    }
   ],
   "source": [
    "print(generate_series(5))"
   ]
  },
  {
   "cell_type": "code",
   "execution_count": 6,
   "id": "1763f4cb",
   "metadata": {},
   "outputs": [
    {
     "name": "stdout",
     "output_type": "stream",
     "text": [
      "[1, 3, 5, 7, 9, 11]\n"
     ]
    }
   ],
   "source": [
    "print(generate_series(6))"
   ]
  },
  {
   "cell_type": "code",
   "execution_count": null,
   "id": "34be42bc",
   "metadata": {},
   "outputs": [],
   "source": []
  }
 ],
 "metadata": {
  "kernelspec": {
   "display_name": "Python 3 (ipykernel)",
   "language": "python",
   "name": "python3"
  },
  "language_info": {
   "codemirror_mode": {
    "name": "ipython",
    "version": 3
   },
   "file_extension": ".py",
   "mimetype": "text/x-python",
   "name": "python",
   "nbconvert_exporter": "python",
   "pygments_lexer": "ipython3",
   "version": "3.9.12"
  }
 },
 "nbformat": 4,
 "nbformat_minor": 5
}
