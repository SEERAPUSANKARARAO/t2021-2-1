{
 "cells": [
  {
   "cell_type": "markdown",
   "id": "950e3d01",
   "metadata": {},
   "source": [
    "# Problem-3:\n",
    ">>With a single integer as the input, generate the following until a = x [series of numbers as shown in below examples]\n",
    "\n",
    ">>Output: (examples)\n",
    "    >1) input a = 1, then output : 1\n",
    "    >2) input a = 2, then output : 1\n",
    "    >3) input a = 3, then output : 1, 3, 5\n",
    "    >4) input a = 4, then output : 1, 3, 5\n",
    "    >5) input a = 5, then output : 1, 3, 5, 7, 9\n",
    "    >6) input a = 6, then output : 1, 3, 5, 7, 9\n",
    "    .\n",
    "    .\n",
    "    >7) input a = x, then output : 1, 3, 5, 7, ......."
   ]
  },
  {
   "cell_type": "code",
   "execution_count": 4,
   "id": "e8332659",
   "metadata": {},
   "outputs": [],
   "source": [
    "def generate_se(a):\n",
    "    numbers = []\n",
    "    for i in range(1, int(a**1.5)+1, 2):\n",
    "        numbers.append(i)\n",
    "    return numbers"
   ]
  },
  {
   "cell_type": "code",
   "execution_count": 5,
   "id": "d9629645",
   "metadata": {},
   "outputs": [
    {
     "data": {
      "text/plain": [
       "[1, 3, 5]"
      ]
     },
     "execution_count": 5,
     "metadata": {},
     "output_type": "execute_result"
    }
   ],
   "source": [
    "generate_se(3)"
   ]
  },
  {
   "cell_type": "code",
   "execution_count": 6,
   "id": "3d3b055c",
   "metadata": {},
   "outputs": [
    {
     "data": {
      "text/plain": [
       "[1]"
      ]
     },
     "execution_count": 6,
     "metadata": {},
     "output_type": "execute_result"
    }
   ],
   "source": [
    "generate_se(1)"
   ]
  },
  {
   "cell_type": "code",
   "execution_count": 7,
   "id": "afd83d1a",
   "metadata": {},
   "outputs": [
    {
     "data": {
      "text/plain": [
       "[1]"
      ]
     },
     "execution_count": 7,
     "metadata": {},
     "output_type": "execute_result"
    }
   ],
   "source": [
    "generate_se(2)"
   ]
  },
  {
   "cell_type": "code",
   "execution_count": null,
   "id": "bbc441ba",
   "metadata": {},
   "outputs": [],
   "source": []
  }
 ],
 "metadata": {
  "kernelspec": {
   "display_name": "Python 3 (ipykernel)",
   "language": "python",
   "name": "python3"
  },
  "language_info": {
   "codemirror_mode": {
    "name": "ipython",
    "version": 3
   },
   "file_extension": ".py",
   "mimetype": "text/x-python",
   "name": "python",
   "nbconvert_exporter": "python",
   "pygments_lexer": "ipython3",
   "version": "3.9.12"
  }
 },
 "nbformat": 4,
 "nbformat_minor": 5
}
