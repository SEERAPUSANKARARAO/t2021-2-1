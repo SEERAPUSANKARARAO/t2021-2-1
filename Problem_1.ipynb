{
 "cells": [
  {
   "cell_type": "markdown",
   "id": "7b4daf13",
   "metadata": {},
   "source": [
    "# Problem-1:\n",
    ">>Create a small calculator which performs operations such as Addition, Subtraction, Multiplication and Division using class. Calculator inputs :> ‘a’, ‘b’ and ‘type of operation’ Datatype :> ‘a’ = double, ‘b’ = double, ‘type of operation’ = string"
   ]
  },
  {
   "cell_type": "code",
   "execution_count": 2,
   "id": "0f164ebe",
   "metadata": {},
   "outputs": [
    {
     "name": "stdout",
     "output_type": "stream",
     "text": [
      "Enter the first number (a): 2\n",
      "Enter the second number (b): 9\n",
      "Enter the type of operation (+, -, *, /): *\n",
      "Result: 18.0\n"
     ]
    }
   ],
   "source": [
    "def calculate(a, b, operation):\n",
    "    a = float(a)\n",
    "    b = float(b)\n",
    "\n",
    "    if operation == \"+\":\n",
    "        return a + b\n",
    "    elif operation == \"-\":\n",
    "        return a - b\n",
    "    elif operation == \"*\":\n",
    "        return a * b\n",
    "    elif operation == \"/\":\n",
    "        if b != 0:\n",
    "            return a / b\n",
    "        else:\n",
    "            return \"Error: Division by zero is not allowed.\"\n",
    "    else:\n",
    "        return \"Error: Invalid operation entered.\"\n",
    "\n",
    "\n",
    "a = input(\"Enter the first number (a): \")\n",
    "b = input(\"Enter the second number (b): \")\n",
    "operation = input(\"Enter the type of operation (+, -, *, /): \")\n",
    "\n",
    "result = calculate(a, b, operation)\n",
    "print(\"Result:\", result)"
   ]
  },
  {
   "cell_type": "code",
   "execution_count": null,
   "id": "b4e421b8",
   "metadata": {},
   "outputs": [],
   "source": []
  }
 ],
 "metadata": {
  "kernelspec": {
   "display_name": "Python 3 (ipykernel)",
   "language": "python",
   "name": "python3"
  },
  "language_info": {
   "codemirror_mode": {
    "name": "ipython",
    "version": 3
   },
   "file_extension": ".py",
   "mimetype": "text/x-python",
   "name": "python",
   "nbconvert_exporter": "python",
   "pygments_lexer": "ipython3",
   "version": "3.9.12"
  }
 },
 "nbformat": 4,
 "nbformat_minor": 5
}
