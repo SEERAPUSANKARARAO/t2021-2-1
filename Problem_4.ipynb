{
 "cells": [
  {
   "cell_type": "markdown",
   "id": "f5539dc1",
   "metadata": {},
   "source": [
    "# Problem-4:\n",
    ">>Get the total count of number listed in the dictionary which is multiple of [1,2,3,4,5,6,7,8,9] (examples) input: [1,2,8,9,12,46,76,82,15,20,30] Output: {1: 11, 2: 8, 3: 4, 4: 4, 5: 3, 6: 2, 7: 0, 8: 1, 9: 1}"
   ]
  },
  {
   "cell_type": "code",
   "execution_count": 1,
   "id": "2ba9b046",
   "metadata": {},
   "outputs": [
    {
     "name": "stdout",
     "output_type": "stream",
     "text": [
      "Output: {1: 11, 2: 8, 3: 4, 4: 4, 5: 3, 6: 2, 7: 0, 8: 1, 9: 1}\n"
     ]
    }
   ],
   "source": [
    "def count_multiples(numbers):\n",
    "    counts = {}\n",
    "    multiples = [1, 2, 3, 4, 5, 6, 7, 8, 9]\n",
    "    for multiple in multiples:\n",
    "        count = sum(1 for num in numbers if num % multiple == 0)\n",
    "        counts[multiple] = count\n",
    "    return counts\n",
    "\n",
    "# Example usage:\n",
    "numbers = [1, 2, 8, 9, 12, 46, 76, 82, 15, 20, 30]\n",
    "result = count_multiples(numbers)\n",
    "print(\"Output:\", result)"
   ]
  },
  {
   "cell_type": "code",
   "execution_count": null,
   "id": "d976a7fa",
   "metadata": {},
   "outputs": [],
   "source": []
  }
 ],
 "metadata": {
  "kernelspec": {
   "display_name": "Python 3 (ipykernel)",
   "language": "python",
   "name": "python3"
  },
  "language_info": {
   "codemirror_mode": {
    "name": "ipython",
    "version": 3
   },
   "file_extension": ".py",
   "mimetype": "text/x-python",
   "name": "python",
   "nbconvert_exporter": "python",
   "pygments_lexer": "ipython3",
   "version": "3.9.12"
  }
 },
 "nbformat": 4,
 "nbformat_minor": 5
}
